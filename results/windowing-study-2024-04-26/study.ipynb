{
 "cells": [
  {
   "cell_type": "code",
   "execution_count": null,
   "id": "da945b15-12cc-4539-9856-6bfde6604746",
   "metadata": {},
   "outputs": [],
   "source": [
    "import pandas as pd\n",
    "import json\n",
    "import os\n",
    "from collections import defaultdict \n",
    "from matplotlib import pyplot as plt "
   ]
  },
  {
   "cell_type": "code",
   "execution_count": null,
   "id": "bb113fca-a27f-41b1-97bb-d7a1469b5363",
   "metadata": {},
   "outputs": [],
   "source": [
    "def ns_to_s(e, name):\n",
    "    if e[name] is not None:\n",
    "        e[name] = e[name]  / 1000.0 / 1000.0 / 1000.0\n",
    "\n",
    "def load_data(filename):\n",
    "    name = os.path.basename(filename).split('.')[0]\n",
    "    with open(filename) as f:\n",
    "        entries = []\n",
    "        for line in f.readlines():\n",
    "            if line.startswith(\"{\"):\n",
    "                d = json.loads(line)\n",
    "                e = {'bench': name, **d['conf'], **d['stats']}\n",
    "                ns_to_s(e, 'time_ns')                \n",
    "                entries.append(e)\n",
    "    return entries\n",
    "logs = [\"sdram_w1.log\", \"sdram_w2.log\", \"c1.log\", \"i2c_k1.log\"]"
   ]
  },
  {
   "cell_type": "code",
   "execution_count": null,
   "id": "54643c3c-11e0-45f3-b47e-de09221b07f9",
   "metadata": {},
   "outputs": [],
   "source": [
    "data = []\n",
    "for log in logs:\n",
    "    data += load_data(log)\n",
    "table = pd.DataFrame(data)"
   ]
  },
  {
   "cell_type": "code",
   "execution_count": null,
   "id": "19ae6781-63a2-4b9b-8d01-909a9ab3a929",
   "metadata": {},
   "outputs": [],
   "source": [
    "table"
   ]
  },
  {
   "cell_type": "code",
   "execution_count": null,
   "id": "6322f522-ff8e-450c-98e8-b611e9c92a71",
   "metadata": {},
   "outputs": [],
   "source": [
    "def load_time(filename):\n",
    "    name = os.path.basename(filename).split('.')[0]\n",
    "    with open(filename) as f:\n",
    "        time_by_window_size = defaultdict(list)\n",
    "        window_size_count = defaultdict(int)\n",
    "        for line in f.readlines():\n",
    "            if line.startswith(\"{\"):\n",
    "                d = json.loads(line)\n",
    "                e = {'bench': name, **d['conf'], **d['stats']}\n",
    "                window_size_count[e['window_size']] += 1\n",
    "                if not e['success']:\n",
    "                    continue\n",
    "                ns_to_s(e, 'time_ns')\n",
    "                time_by_window_size[e['window_size']].append(e['time_ns'])\n",
    "    return time_by_window_size, window_size_count"
   ]
  },
  {
   "cell_type": "code",
   "execution_count": null,
   "id": "b5d9321c-ddd9-4c3e-bcf7-02f54bb95fa2",
   "metadata": {},
   "outputs": [],
   "source": [
    "def plot_window_size_vs_time(filename):\n",
    "    time_by_window_size, window_size_count = load_time(filename)\n",
    "    max_window_size = max(time_by_window_size.keys()) - 1 # make sure we do not look at incomplete data\n",
    "    x = sorted(list(time_by_window_size.keys()))[:-1]\n",
    "    y = [sum(time_by_window_size[w]) for w in x]\n",
    "    print(f\"min window size: {x[0]}, {len(time_by_window_size[x[0]])} / {window_size_count[x[0]]}\")\n",
    "    plt.plot(x, y)\n",
    "    success_y = [float(len(time_by_window_size[w])) /window_size_count[w]  for w in x]\n",
    "    "
   ]
  },
  {
   "cell_type": "code",
   "execution_count": null,
   "id": "d341bbac-27ad-4ae8-9d61-96a615474527",
   "metadata": {},
   "outputs": [],
   "source": [
    "plot_window_size_vs_time('i2c_k1.log')\n",
    "plot_window_size_vs_time('sdram_w2.log')\n",
    "plot_window_size_vs_time('c1.log')\n",
    "plt.xlabel(\"window size (cycles)\")\n",
    "plt.ylabel(\"average time (s)\")\n",
    "plt.savefig(\"window_size\" + \".png\")\n",
    "plt.savefig(\"window_size\" + \".svg\")\n",
    "plt.show()"
   ]
  },
  {
   "cell_type": "code",
   "execution_count": null,
   "id": "8b6477e2-9f16-444a-80c4-48b315592aa5",
   "metadata": {},
   "outputs": [],
   "source": [
    "def load_unroll_time(filename):\n",
    "    name = os.path.basename(filename).split('.')[0]\n",
    "    with open(filename) as f:\n",
    "        wrong_time = []\n",
    "        right_time = []\n",
    "        for line in f.readlines():\n",
    "            if line.startswith(\"===\"):\n",
    "                break\n",
    "            if line.startswith(\"{\"):\n",
    "                d = json.loads(line)\n",
    "                ns_to_s(d, 'time_ns')\n",
    "                x, y = d['end_step'], d['time_ns']\n",
    "                if d['success']:\n",
    "                    right_time += [(x, y)]\n",
    "                else:\n",
    "                    wrong_time += [(x, y)]\n",
    "    return wrong_time, right_time\n",
    "\n",
    "def plot_unrolling_vs_time(filename, error_at: int):\n",
    "    wrong_time, right_time = load_unroll_time(filename)\n",
    "    wrong_time = [(x,y) for x,y in wrong_time if x >= error_at]\n",
    "    right_time = [(x,y) for x,y in right_time if x >= error_at]\n",
    "    x = [x for x,_ in wrong_time] + [x for x,_ in right_time]\n",
    "    #plt.plot(*zip(*sorted(wrong_time + right_time)))\n",
    "    first_success = min(x for x,_ in right_time)\n",
    "    print(f\"first success at {first_success}\")\n",
    "    #plt.plot(*zip(*wrong_time), 'r')\n",
    "    #plt.plot(*zip(*right_time), 'g')\n",
    "    plt.plot(*zip(*sorted(right_time + wrong_time)))\n",
    "    \n",
    "    plt.title(filename)\n",
    "    plt.xlabel(\"window size\")\n",
    "    plt.ylabel(\"average time (s)\")\n",
    "    plt.savefig(filename + \".png\")\n",
    "    plt.show()"
   ]
  },
  {
   "cell_type": "code",
   "execution_count": null,
   "id": "f0717ced-128b-4f3a-9499-e5e0d62f05df",
   "metadata": {},
   "outputs": [],
   "source": [
    "plot_unrolling_vs_time(\"i2c_k1_unroll.log\", error_at=1238)\n",
    "plot_unrolling_vs_time(\"sdram_w2_unroll.log\", error_at=130)\n",
    "# never succeeds\n",
    "# plot_unrolling_vs_time(\"c1_unroll.log\")"
   ]
  },
  {
   "cell_type": "code",
   "execution_count": null,
   "id": "bf07a414-4034-45f5-be84-d88c47391071",
   "metadata": {},
   "outputs": [],
   "source": []
  }
 ],
 "metadata": {
  "kernelspec": {
   "display_name": "Python 3 (ipykernel)",
   "language": "python",
   "name": "python3"
  },
  "language_info": {
   "codemirror_mode": {
    "name": "ipython",
    "version": 3
   },
   "file_extension": ".py",
   "mimetype": "text/x-python",
   "name": "python",
   "nbconvert_exporter": "python",
   "pygments_lexer": "ipython3",
   "version": "3.12.2"
  }
 },
 "nbformat": 4,
 "nbformat_minor": 5
}
